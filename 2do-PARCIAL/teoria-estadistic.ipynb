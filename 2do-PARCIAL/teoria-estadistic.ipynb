{
 "cells": [
  {
   "cell_type": "markdown",
   "id": "b8e1910b",
   "metadata": {},
   "source": [
    "ESTADISTICA"
   ]
  },
  {
   "cell_type": "markdown",
   "id": "68bf372a",
   "metadata": {},
   "source": [
    "PRUEBA RESET DE RAMSEY:\n",
    "\n",
    "La prueba RESET de Ramsey (Regression Specification Error Test) sirve para detectar errores de especificación en un modelo de regresión lineal, particularmente:\n",
    "\n",
    "✅ Omisión de variables relevantes\n",
    "✅ Mala forma funcional (el modelo debería incluir términos no lineales y no los incluiste)\n",
    "✅ Interacciones no consideradas\n",
    "✅ Variables mal transformadas\n",
    "\n",
    "En otras palabras, la prueba analiza si el modelo está correctamente especificado o si le falta estructura.\n",
    "\n",
    "¿Cómo funciona en términos simples?\n",
    "1. Estimas tu modelo original por MCO.\n",
    "2. Luego agregas al modelo potencias de los valores ajustados\n",
    "3. Si esos términos adicionales son estadísticamente significativos → hay evidencia de que tu modelo está mal especificado.\n",
    "\n",
    "📌 Hipótesis:\n",
    "1. H0: El modelo esta bien especificado\n",
    "2. H1: El modelo está mal especificado\n",
    "\n",
    "Si se rechaza H0, significa que el modelo podria estar incompleto o mal planteado y que se deben revisar variables,\n",
    "transformaciones o forma funcional.\n",
    "\n",
    "La prueba reset me dice si el modelo lineal se quedó corto y si le falto algo\n"
   ]
  },
  {
   "cell_type": "code",
   "execution_count": 8,
   "id": "7ccc0a8e",
   "metadata": {},
   "outputs": [
    {
     "name": "stdout",
     "output_type": "stream",
     "text": [
      "                            OLS Regression Results                            \n",
      "==============================================================================\n",
      "Dep. Variable:                      y   R-squared:                       0.964\n",
      "Model:                            OLS   Adj. R-squared:                  0.959\n",
      "Method:                 Least Squares   F-statistic:                     211.6\n",
      "Date:                Sat, 01 Nov 2025   Prob (F-statistic):           4.89e-07\n",
      "Time:                        14:08:23   Log-Likelihood:                -14.767\n",
      "No. Observations:                  10   AIC:                             33.53\n",
      "Df Residuals:                       8   BIC:                             34.14\n",
      "Df Model:                           1                                         \n",
      "Covariance Type:            nonrobust                                         \n",
      "==============================================================================\n",
      "                 coef    std err          t      P>|t|      [0.025      0.975]\n",
      "------------------------------------------------------------------------------\n",
      "const          2.2667      0.809      2.801      0.023       0.401       4.133\n",
      "x              1.8970      0.130     14.546      0.000       1.596       2.198\n",
      "==============================================================================\n",
      "Omnibus:                        1.426   Durbin-Watson:                   2.288\n",
      "Prob(Omnibus):                  0.490   Jarque-Bera (JB):                1.034\n",
      "Skew:                          -0.628   Prob(JB):                        0.596\n",
      "Kurtosis:                       2.050   Cond. No.                         13.7\n",
      "==============================================================================\n",
      "\n",
      "Notes:\n",
      "[1] Standard Errors assume that the covariance matrix of the errors is correctly specified.\n",
      "\n",
      "Resultado RESET:\n",
      "<F test: F=0.4048265029272803, p=0.544841506223661, df_denom=7, df_num=1>\n"
     ]
    },
    {
     "name": "stderr",
     "output_type": "stream",
     "text": [
      "c:\\Users\\Usuario\\AppData\\Local\\Programs\\Python\\Python39\\lib\\site-packages\\scipy\\stats\\_axis_nan_policy.py:531: UserWarning: kurtosistest only valid for n>=20 ... continuing anyway, n=10\n",
      "  res = hypotest_fun_out(*samples, **kwds)\n"
     ]
    }
   ],
   "source": [
    "import statsmodels.api as sm\n",
    "\n",
    "from statsmodels.stats.diagnostic import linear_reset\n",
    "import pandas as pd\n",
    "\n",
    "# Ejemplo de datos\n",
    "data = {\n",
    "    \"y\": [5, 7, 6, 9, 12, 15, 14, 18, 20, 21],\n",
    "    \"x\": [1, 2, 3, 4, 5, 6, 7, 8, 9, 10]\n",
    "}\n",
    "\n",
    "df = pd.DataFrame(data)\n",
    "\n",
    "X = sm.add_constant(df[\"x\"])\n",
    "y = df[\"y\"]\n",
    "\n",
    "# Modelo MCO\n",
    "model = sm.OLS(y, X).fit()\n",
    "print(model.summary())\n",
    "\n",
    "# Prueba RESET de Ramsey\n",
    "reset_test = linear_reset(model, power=2, use_f=True) \n",
    "print(\"\\nResultado RESET:\")\n",
    "print(reset_test)\n",
    "\n",
    "\n"
   ]
  },
  {
   "cell_type": "code",
   "execution_count": null,
   "id": "0e5ddb54",
   "metadata": {},
   "outputs": [
    {
     "name": "stdout",
     "output_type": "stream",
     "text": [
      "\n",
      "Resultado RESET:\n",
      "<F test: F=0.4048265029272803, p=0.544841506223661, df_denom=7, df_num=1>\n"
     ]
    }
   ],
   "source": [
    "# Prueba RESET de Ramsey\n",
    "reset_test = linear_reset(model, power=2, use_f=True) \n",
    "print(\"\\nResultado RESET:\")\n",
    "print(reset_test)"
   ]
  },
  {
   "cell_type": "markdown",
   "id": "c15eb1b0",
   "metadata": {},
   "source": [
    "p-valor = 0.5448 > 0.05 → No rechazamos. No hay evidencia estadística de mala especificación del modelo.\n",
    "Es decir, el modelo lineal parece adecuado y no faltan términos importantes"
   ]
  },
  {
   "cell_type": "markdown",
   "id": "dd5fa4c7",
   "metadata": {},
   "source": [
    "TEST DE TUKEY"
   ]
  },
  {
   "cell_type": "markdown",
   "id": "572f81a0",
   "metadata": {},
   "source": [
    "¿Qué es el test de Tukey?\n",
    "Es una prueba post-hoc para comparar medias de más de dos grupos de forma pareada (grupo 1 vs 2, 1 vs 3, 2 vs 3, etc.), controlando el error tipo I cuando se hacen muchas comparaciones.\n",
    "\n",
    "ANOVA te dice \"al menos dos grupos son distintos\"\n",
    "Tukey te dice \"cuáles grupos son distintos\"\n",
    "\n",
    "Se usa cuando:\n",
    "1. Hay 3 o más grupos\n",
    "2. Hiciste un ANOVA significativo\n",
    "3. Las varianzas son más o menos homogéneas\n",
    "\n",
    "Si ANOVA no es significativo → Tukey no se realiza\n",
    "\n",
    "Si el p-valor < 0.05, los grupos son significativamente distintos"
   ]
  },
  {
   "cell_type": "markdown",
   "id": "ecd68f5a",
   "metadata": {},
   "source": [
    "PRUEBA DE WILCOXON-MANN-WHITNEY Y PRUEBA DE KRUSKALL-WALLIS\n"
   ]
  },
  {
   "cell_type": "markdown",
   "id": "edc3eb40",
   "metadata": {},
   "source": [
    "\n",
    "Ambas son pruebas no paramétricas, no asumen normalidad en los datos, pero se aplican en situaciones distintas.\n",
    "\n",
    "1. Prueba de Wilcoxon–Mann–Whitney: Comparar dos grupos independientes para evaluar si provienen de la misma distribución (especialmente si tienen igual mediana).\n",
    "\n",
    "2. Prueba de Kruskal–Wallis: Es un ANOVA no parametrico, Comparar tres o más grupos independientes para determinar si al menos uno difiere en su distribución o mediana. "
   ]
  },
  {
   "cell_type": "markdown",
   "id": "71740fa5",
   "metadata": {},
   "source": [
    "TEST DE SHAPIRO-WIK"
   ]
  },
  {
   "cell_type": "markdown",
   "id": "82501e9c",
   "metadata": {},
   "source": [
    "Test de Shapiro–Wilk: Evaluar si una muestra proviene de una distribución normal\n",
    "\n",
    "El valor W compara la dispersión observada de los datos con la esperada bajo una distribución normal. Cuanto más se aleja de 1, mayor es la desviación de la normalidad."
   ]
  },
  {
   "cell_type": "markdown",
   "id": "8697e0a3",
   "metadata": {},
   "source": [
    "\n",
    "PRUEBA LEVENE"
   ]
  },
  {
   "cell_type": "markdown",
   "id": "d287bbc3",
   "metadata": {},
   "source": [
    "La prueba de Levene se utiliza en estadística para verificar la homogeneidad de varianzas entre dos o más grupos."
   ]
  },
  {
   "cell_type": "markdown",
   "id": "0272b4d5",
   "metadata": {},
   "source": [
    "PCA"
   ]
  },
  {
   "cell_type": "markdown",
   "id": "272eafed",
   "metadata": {},
   "source": [
    "Principal Components Analisis"
   ]
  }
 ],
 "metadata": {
  "kernelspec": {
   "display_name": "Python 3",
   "language": "python",
   "name": "python3"
  },
  "language_info": {
   "codemirror_mode": {
    "name": "ipython",
    "version": 3
   },
   "file_extension": ".py",
   "mimetype": "text/x-python",
   "name": "python",
   "nbconvert_exporter": "python",
   "pygments_lexer": "ipython3",
   "version": "3.9.5"
  }
 },
 "nbformat": 4,
 "nbformat_minor": 5
}
