{
 "cells": [
  {
   "cell_type": "markdown",
   "id": "834017f8",
   "metadata": {},
   "source": [
    "Pregunta 2 \n",
    "Pregunta Un investigador tiene un conjunto de datos sobre desarrollo de países con 15 indicadores económicos (PIB per cápita,\n",
    "inflación, desempleo, etc.) que están altamente correlacionados entre sí. Quiere crear un único índice de ‘desarrollo\n",
    "económico’ para clasificar a los países. ¿Qué técnica es más adecuada para este propósito?\n",
    "RESPUESTA:\n",
    "La tecnica mas adecuada para esto: Análisis de Componentes Principales (PCA) es adecuado para reducir dimensiones y formar un índice."
   ]
  },
  {
   "cell_type": "markdown",
   "id": "4c7e097f",
   "metadata": {},
   "source": [
    "Pregunta 3\n",
    "En un conjunto de datos sobre salarios, la media es de $50,000 y la mediana es de $45,000. Si se descubre un\n",
    "error y el salario más alto, previamente registrado como $150,000, en realidad era de $250,000, ¿cómo afectará esta\n",
    "corrección a la media, la mediana y al rango intercuartílico (RIC)?\n",
    "RESPUESTA: \n",
    "La media aumentará, la mediana permanecerá igual y el RIC permanecerá igual."
   ]
  },
  {
   "cell_type": "markdown",
   "id": "a27aa1a1",
   "metadata": {},
   "source": [
    "Pregunta 4\n",
    "Se desea estudiar el efecto de un nuevo fertilizante en el crecimiento de las plantas. Se tienen tres grupos: uno de\n",
    "control (sin fertilizante), uno con el fertilizante A y otro con el fertilizante B. Los datos de crecimiento no siguen\n",
    "una distribución normal. ¿Qué prueba se debería usar para comparar los tres grupos?\n",
    "RESPUESTA: \n",
    "Kruskal-Wallis (no paramétrica) para comparar tres grupos con datos no normales."
   ]
  },
  {
   "cell_type": "markdown",
   "id": "4d8d221c",
   "metadata": {},
   "source": [
    "Pregunta 5\n",
    "En un estudio sobre el rendimiento académico, se quiere controlar el efecto del estatus socioeconómico (una variable\n",
    "continua) al comparar las calificaciones promedio entre diferentes tipos de escuelas (una variable categórica). ¿Qué\n",
    "método estadístico permite hacer esto?\n",
    "RESPUESTA: \n",
    "ANCOVA permite comparar categorías controlando por una covariable continua."
   ]
  },
  {
   "cell_type": "markdown",
   "id": "0daa7142",
   "metadata": {},
   "source": [
    "Pregunta 6\n",
    "Un analista de datos está construyendo un modelo de regresión lineal y observa que el Factor de Inflación de la Varianza (VIF) para dos de sus variables predictoras es superior a 10. ¿Cuál es el problema más probable en su\n",
    "modelo?\n",
    "RESPUESTA\n",
    "VIF > 10 indica multicolinealidad entre predictoras. La multicolinealidad implica que dos o más variables explicativas en un modelo de regresión están fuertemente correlacionadas entre sí.\n",
    "En otras palabras, aportan información muy similar, lo que dificulta que el modelo distinga el efecto individual de cada una sobre la variable dependiente.\n",
    "\n",
    "El VIF mide cuánto se incrementa la varianza del estimador de un coeficiente debido a la correlación entre las variables explicativas.\n",
    "\n",
    "Un VIF = 1 indica que no hay correlación entre una variable y las demás.\n",
    "Un VIF entre 5 y 10 sugiere posible multicolinealidad.\n",
    "Un VIF > 10 se considera un problema serio de multicolinealidad.\n",
    "\n",
    "Consecuencias de la multicolinealidad:\n",
    "    Los coeficientes estimados se vuelven inestables y muy sensibles a pequeños cambios en los datos.\n",
    "    Los errores estándar de los coeficientes se inflan, lo que reduce la significatividad estadística de las variables.\n",
    "    Puede resultar difícil interpretar los efectos individuales de los predictores."
   ]
  },
  {
   "cell_type": "markdown",
   "id": "8b4ed892",
   "metadata": {},
   "source": [
    "Pregunta 7\n",
    "En una encuesta sobre ingresos, las personas con ingresos muy altos y muy bajos son las que más tienden a no\n",
    "responder la pregunta. ¿Qué tipo de mecanismo de datos faltantes describe mejor esta situación?\n",
    "RESPUESTA:\n",
    "Faltantes No al Azar (MNAR): la probabilidad de faltar depende del propio ingreso."
   ]
  },
  {
   "cell_type": "markdown",
   "id": "cc19d428",
   "metadata": {},
   "source": [
    "Pregunta 8\n",
    "Al correr el código 2 se obtienen estos resultados:\n",
    "Media: 6.53 mil pesos Mediana: 6.37 mil pesos SD: 4.77 Min: -6.78 Max: 17.27 % con mejora (diferencia > 0): 95.3\n",
    "% Tamaño del efecto (Cohen’s d): 1.369\n",
    "El histograma muestra que algunas personas no mejoraron (4.7%) e incluso hay valores negativos (hasta -$6,780).\n",
    "¿Cómo interpretas la heterogeneidad en los efectos del programa?\n",
    "RESPUESTA:\n",
    "La heterogeneidad es esperada y normal: diferentes personas responden diferentemente al mismo programa por factores individuales (motivación, habilidades previas, oportunidades laborales locales). El 92.9% mejoró, con efecto\n",
    "promedio grande (d=1.48) y mediana casi igual a media (6.41 vs 6.48), indicando distribución simétrica. Los pocos casos sin mejora o con pérdida (-3.52 mínimo) pueden deberse a factores externos (ej: pérdida de empleo previo).\n",
    "La variabilidad (SD=4.38) es razonable para intervenciones sociales y no invalida la efectividad promedio."
   ]
  },
  {
   "cell_type": "markdown",
   "id": "00e735a9",
   "metadata": {},
   "source": [
    "Pregunta 9\n",
    "Un analista está estudiando datos de ingresos que están muy sesgados a la derecha. Para un modelo de regresión, decide aplicar una transformación logarítmica a la variable de ingresos. ¿Cuál de las siguientes es una razón válida\n",
    "para hacer esto?\n",
    "RESPUESTA:\n",
    "Log-transform reduce asimetría y estabiliza varianza."
   ]
  },
  {
   "cell_type": "markdown",
   "id": "f5136e91",
   "metadata": {},
   "source": [
    "Pregunta 10\n",
    "Un histograma de un conjunto de datos muestra una cola larga hacia la derecha. ¿Cuál de las siguientes afirmaciones\n",
    "es la más probable sobre la relación entre la media, la mediana y la moda de estos datos?\n",
    "\n",
    "RESPUESTA:\n",
    "Moda < Mediana < Media"
   ]
  },
  {
   "cell_type": "markdown",
   "id": "9ae4ddd2",
   "metadata": {},
   "source": [
    "Pregunta 11\n",
    "Un investigador quiere predecir las ventas anuales de una tienda basándose en su tamaño en metros cuadrados y\n",
    "el número de empleados. Si el investigador no estandariza las variables, que tienen escalas muy diferentes, ¿qué\n",
    "problema podría surgir en algunos algoritmos de machine learning (mismo sucedería en un PCA)?\n",
    "RESPUESTA:\n",
    "La variable con mayor escala dominará el análisis si no se estandariza."
   ]
  },
  {
   "cell_type": "markdown",
   "id": "da34950e",
   "metadata": {},
   "source": [
    "Pregunta 12\n",
    "Un analista de datos está comparando dos conjuntos de datos. El Conjunto A tiene una media de 100 y una desviación estándar de 10. El Conjunto B tiene una media de 500 y una desviación estándar de 40. ¿Qué se puede concluir sobre la dispersión de los dos conjuntos de datos?\n",
    "RESPUESTA:\n",
    "B tiene mayor dispersión absoluta; A tiene mayor dispersión relativa (CV mayor).\n",
    "\n",
    "calculo: (media de A)/(desviación estandar de A)=100/10=10\n",
    "lo mismo para B: (Media B)/(desviación est b)= 500/40= 12.5\n",
    "ahora divido resultado B/ resultado A=  12.5/10 = 1.25 >1 entonces mayor varianza relativa de A respecto a varianza de B\n",
    "\n"
   ]
  },
  {
   "cell_type": "markdown",
   "id": "5a268243",
   "metadata": {},
   "source": [
    "Pregunta 14\n",
    "En un modelo de regresión para predecir el salario, se incluye una variable dummy ‘mujer’ (codificada como 1 para\n",
    "mujeres, 0 para hombres). El coeficiente estimado para esta variable es -2.15. ¿Cuál es la interpretación correcta?\n",
    "\n",
    "RESPUESTA:\n",
    "SALARIO = B1Dx\n",
    "D = 1mujer y 0hombre\n",
    "b=-2.15\n",
    "Las mujeres ganan, en promedio, 2.15 unidades menos que los hombres, manteniendo constantes las demás\n",
    "variables del modelo."
   ]
  },
  {
   "cell_type": "markdown",
   "id": "22eff85b",
   "metadata": {},
   "source": [
    "Pregunta 15\n",
    "En un análisis de PCA, ¿cuál es la relación matemática entre los componentes principales?\n",
    "\n",
    "RESPUESTA:Los componentes principales son ortogonales (no correlacionados).\n"
   ]
  },
  {
   "cell_type": "markdown",
   "id": "d9e1158f",
   "metadata": {},
   "source": []
  },
  {
   "cell_type": "markdown",
   "id": "286cfcf6",
   "metadata": {},
   "source": [
    "Pregunta 16\n",
    "Usted trabaja en una empresa de retail con varias sucursales. ¿Qué revelan estas medidas sobre la dispersión y cómo\n",
    "deben interpretarse para decisiones gerenciales?\n",
    "Responda considerando lo siguiente:\n",
    "Desviación Estándar: 138.47 mil pesos Rango: 573.28 mil pesos IQR: 191.28 mil pesos Coeficiente de Variación:\n",
    "0.565 Rango / IQR = 3.00\n",
    "Outliers método IQR: 8 sucursales (8.0%) Outliers método Z-score: 3 sucursales (3.0%)\n",
    "\n",
    "RESPUESTAS: Alta variabilidad: CV=0.565 indica que SD es 56.5% de la media (heterogeneidad considerable entre sucursales).\n",
    "La relación Rango/IQR=3.00 es alta, confirmando presencia de valores extremos. Los outliers detectados por IQR\n",
    "(8) vs Z-score (3) difieren porque IQR es más sensible; probablemente son flagship stores legítimas, no errores. Para\n",
    "estrategias, considerar segmentación: pequeñas, medianas, flagship requieren enfoques diferentes.\n",
    "\n",
    "CV alto indica heterogeneidad; Rango/IQR elevado y diferencias en outliers sugieren tiendas flagship legítimas y conviene segmentar"
   ]
  },
  {
   "cell_type": "markdown",
   "id": "8aa56a5b",
   "metadata": {},
   "source": [
    "Pregunta 17\n",
    "Un analista de datos quiere transformar una variable de ‘ingresos’ que tiene valores de cero. ¿Qué transformación\n",
    "logarítmica es la más adecuada para evitar errores matemáticos?\n",
    "\n",
    "RESPUESTA:\n",
    "log(x + 1) evita error con ceros."
   ]
  },
  {
   "cell_type": "markdown",
   "id": "4952e35d",
   "metadata": {},
   "source": [
    "Pregunta 18\n",
    "¿Cuál es la principal desventaja de usar el Rango como medida de variabilidad?\n",
    "\n",
    "RESPUESTA: \n",
    "El Rango es muy sensible a outliers."
   ]
  },
  {
   "cell_type": "markdown",
   "id": "827126a4",
   "metadata": {},
   "source": [
    "Pregunta 19\n",
    "Realizas un ANOVA comparando 5 métodos de enseñanza y obtienes un estadístico F grande con un valor p =\n",
    "0.002. ¿Qué te indica este resultado?\n",
    "\n",
    "RESPUESTA:\n",
    "Al menos dos de los métodos de enseñanza tienen medias de efectividad que son significativamente diferentes\n",
    "entre sí.\n",
    "H0= las medias poblacionales de los 5 métodos de enseñanza son iguales.\n",
    "H1= Almenos una de las medias poblacionales de los 5 métodos de enseñanza difiere.\n",
    "\n",
    "p-valor<0.05 --> Rechazamos la hipótesis nula al nivel de significación del 5%.\n",
    "Un F grande y un p = 0.002 indican que existen diferencias significativas entre los métodos de enseñanza, por lo que no todos producen el mismo resultado promedio.\n"
   ]
  },
  {
   "cell_type": "markdown",
   "id": "c51024b2",
   "metadata": {},
   "source": [
    "Pregunta 20\n",
    "Se te presenta un diagrama de caja (box plot) donde la línea de la mediana está muy cerca de la caja del primer\n",
    "cuartil (Q1) y el bigote derecho es mucho más largo que el bigote izquierdo. ¿Qué inferencia es la más correcta sobre\n",
    "la distribución de los datos?\n",
    "\n",
    "RESPUESTA:\n",
    "Si en un diagrama de caja (box plot) observás que: La mediana está muy cerca del primer cuartil (Q1), y El bigote derecho es mucho más largo que el izquierdo, entonces la inferencia más correcta es que la distribución está sesgada positivamente (o asimétrica a la derecha). \n",
    "\n",
    "La mediana muy cerca de Q1 y bigote derecho largo indican concentración en Q1–mediana y asimetría positiva"
   ]
  },
  {
   "cell_type": "markdown",
   "id": "b9b65791",
   "metadata": {},
   "source": [
    "Una cita con psicologo y psiquiatra garpado particular. Para diagnosticar a fer por sus problemas de aprendizaje.\n",
    "Me falta iniciativa.\n",
    "\n",
    "Que es lo que le gusta a fer? TENER PLATA. HEDONISTA, LE GUSTA IR A LUGARES CAROS. \n",
    "\n",
    "SESANCIÓN DE PROGRESO PARA QUE NO SE FRUSTRE, RECOMPENSAS DEMOSTRANDO QUE ESTA CERCA.\n",
    "\n",
    "IMPORTACIÓN Y VENTA DE COSAS/IMPORTACIÓN DE ROPA Y VENTA DE ESTO. VENTA AL POR MAYOR DE ROPA DE CHINOS Y TAIWANESAS. Estrategias de e-comerce.\n",
    "\n",
    "CAPITAL INICIAL: 1500 dolares stock 1 sobre free shipping. Importador de cualquier cosas.\n",
    "\n",
    "Cursos como armar y manejo de ventas/paginas. Preocupados por la generación de plata.\n",
    "\n",
    "A escala, tiempo y esfuerzo.\n",
    "Libertad de tener a sus propios empleados. Años y decadas de esfuerzo.\n",
    "\n",
    "Algo unicamente de ferchu/ MOTO/ Status social/ Mas libertad de libertad. Que se arme capital. A el le encanta pasear y recorrer capital. \n"
   ]
  },
  {
   "cell_type": "markdown",
   "id": "e4390bd2",
   "metadata": {},
   "source": [
    "OTRO EXAMEN"
   ]
  },
  {
   "cell_type": "markdown",
   "id": "f2afd4fb",
   "metadata": {},
   "source": [
    "Pregunta 1\n",
    "Un test de Tukey compara las medias de tres grupos (A, B, C). Los resultados muestran valores p ajustados: (A vs\n",
    "B: p = 0.03), (A vs C: p = 0.51), (B vs C: p = 0.008). ¿Qué se puede concluir?\n",
    "\n",
    "RESPUESTA:\n",
    "\n",
    "El test de Tukey es una prueba post-hoc usada después de un ANOVA significativo, para comparar pares de medias y ver entre qué grupos específicos existen diferencias estadísticamente significativas.\n",
    "A y B → tienen medias significativamente diferentes (p = 0.03 < 0.05).\n",
    "B y C → también difieren significativamente (p = 0.008 < 0.05).\n",
    "A y C → no presentan diferencia significativa (p = 0.51 > 0.05).\n",
    "\n",
    "El grupo B se diferencia significativamente de los otros dos (A y C), mientras que A y C son similares entre sí.\n",
    "\n",
    "La media del grupo A es significativamente diferente de B, pero no de C. La media de B también es\n",
    "significativamente diferente de C."
   ]
  },
  {
   "cell_type": "markdown",
   "id": "e7f5094c",
   "metadata": {},
   "source": [
    "Pregunta 2\n",
    "Usted trabaja en una empresa de retail con varias sucursales. El gerente regional pregunta: “¿Cuánto vende una\n",
    "sucursal típica?” ¿Cuál es la respuesta MÁS apropiada y por qué? Responda considerando lo siguiente:\n",
    "Media: 245.18 mil pesos Mediana: 197.45 mil pesos Diferencia Media - Mediana: 47.73 (24.2%) Asimetría (Skewness):\n",
    "1.24 % sucursales SOBRE la media: 36.0% % sucursales BAJO la media: 64.0%\n",
    "\n",
    "RESPUESTA:\n",
    "Distribución con asimetría positiva (skew = 1.24) y media > mediana. Solo 36 % supera la media, por lo tanto la mediana representa mejor a la sucursal “típica”.\n",
    "\n",
    "La asimetría positiva (skewness = 1.24) y que la media (245,18) sea mayor que la mediana indican cola derecha: unas pocas sucursales venden mucho y “empujan” la media hacia arriba.\n",
    "La media es sensible a esos valores extremos; por eso no refleja bien lo que vende una sucursal “típica”.\n",
    "\n",
    "La evidencia cuantitativa lo confirma: 64% de las sucursales están por debajo de la media y solo 36% por encima — la media no está en el centro de la distribución."
   ]
  },
  {
   "cell_type": "markdown",
   "id": "b00b18aa",
   "metadata": {},
   "source": [
    "Pregunta 3\n",
    "Suponga que corrió el código 2 y se obtuvieron los siguientes resultados para analizar los supuestos:\n",
    "Shapiro-Wilk test (normalidad de diferencias): W = 0.9872 p-valor = 0.5167 fi No se rechaza normalidad (p > 0.05)\n",
    "Test de Wilcoxon (alternativa no paramétrica): V = 3361 p-valor: <0.0001\n",
    "Además, los Q-Q plot y histograma de diferencias muestran distribución aproximadamente normal.\n",
    "Responda: ¿Por qué verificamos normalidad de las DIFERENCIAS y no de los ingresos antes/después por separado?\n",
    "¿Qué implican estos resultados?\n",
    "\n",
    "RESPUESTA:\n",
    "Test t pareado: Cuando queremos evaluar si el promedio antes y después de una intervención (por ejemplo, \n",
    "un programa de capacitación, una política comercial, etc.) difieren significativamente. \n",
    "Porque el supuesto de normalidad del test t pareado no aplica a los datos “antes” y “después” por separado, \n",
    "sino a la distribución de las diferencias entre ellos: \n",
    "Se verifica la normalidad de las diferencias porque el test t pareado analiza cambios individuales\n",
    " (no los valores absolutos). Los resultados muestran que esas diferencias son normales y que existe \n",
    " un cambio estadísticamente significativo entre los ingresos antes y después (p < 0.001).\n",
    "\n",
    "el test t pareado evalúa la media de las diferencias. Por eso el supuesto de normalidad debe verificarse sobre esas diferencias, no sobre “antes” ni “después” por separado.\n",
    "El p = 0.52 → no se rechaza normalidad; el Wilcoxon (p < 0.0001) refuerza la conclusión del efecto positivo."
   ]
  },
  {
   "cell_type": "markdown",
   "id": "12769dbf",
   "metadata": {},
   "source": [
    "Pregunta 4\n",
    "Según el Teorema Central del Límite (TCL), ¿qué propiedad adquiere la distribución muestral de la media ({x̄})\n",
    "cuando el tamaño de la muestra (n) es suficientemente grande?\n",
    "\n",
    "RESPUESTA: Se aproxima a una distribución normal. l TCL indica que la distribución muestral de la media se aproxima a una normal cuando n es grande.\n",
    "\n"
   ]
  },
  {
   "cell_type": "markdown",
   "id": "a6b9e88b",
   "metadata": {},
   "source": [
    "Pregunta 5\n",
    "En un análisis de PCA, ¿cuál es la relación matemática entre los componentes principales?\n",
    "\n",
    "RESPUESTA:\n",
    "El PCA es una técnica estadística de reducción de la dimensionalidad. Su objetivo es resumir la información contenida en muchas variables originales en un número menor de componentes principales, sin perder demasiada variabilidad. El PCA transforma las variables originales (que pueden estar correlacionadas) en un nuevo conjunto de variables no correlacionadas llamadas componentes principales (PCs), que capturan la mayor parte de la variabilidad total de los datos.\n",
    "TIENE DOS PROPIEDADES FUNDAMENTALES:\n",
    "1 Ortogonalidad (NO CORRELACIÓN): Los componentes son indepedientes linealmente y no comparten varianza Cov(Pci, Pcj)= 0 para i#j\n",
    "2 Varianza decrececiente: El primer componente (PC1) captura la mayor varinza posible de los datos, el segundo (PC2) captur la mayor varianza posible restante, pero sin correlación con PC1 y asi sucecivamente.\n",
    "Cada componente tiene una varianza distinta, disminuyendo de PC1 a PCn"
   ]
  },
  {
   "cell_type": "markdown",
   "id": "175960b0",
   "metadata": {},
   "source": [
    "Pregunta 6\n",
    "Querés estimar un modelo de regresión para entender los determinantes del ingreso. Tus variables independientes\n",
    "son: años de educación, años de experiencia, sector económico (categórica), y género. Antes de estimar el modelo,\n",
    "analizas la distribución de tu variable dependiente (ingreso). Ejecutá el código 1 de R y respondé la siguiente\n",
    "pregunta: Dado el histograma de tu variable dependiente, ¿cuál es la mejor estrategia de especificación para tu\n",
    "modelo de regresión?\n",
    "\n",
    "RESPUESTAS: \n",
    "El Código 1 genera datos log-normales. Para cumplir supuestos de MCO, conviene modelar log(ingreso); los coeficientes se interpretan como cambios porcentuales (elasticidades).\n",
    "\n",
    "\n",
    "Usar lm(ingreso ~ educacion + experiencia + sector + genero) directamente sin transformación. La regresión\n",
    "lineal con MCO es robusta a violaciones de normalidad gracias al TCL con n=500. La asimetría de la variable\n",
    "dependiente afecta la interpretación pero no invalida las estimaciones. No es necesario transformar ni usar métodos\n",
    "alternativos."
   ]
  },
  {
   "cell_type": "markdown",
   "id": "a842886e",
   "metadata": {},
   "source": [
    "Pregunta 7\n",
    "Se te presenta un diagrama de caja (box plot) donde la línea de la mediana está muy cerca de la caja del primer\n",
    "cuartil (Q1) y el bigote derecho es mucho más largo que el bigote izquierdo. ¿Qué inferencia es la más correcta sobre\n",
    "la distribución de los datos?\n",
    "\n",
    "RESPUESTA:\n",
    ": Mediana cerca de Q1 + bigote derecho largo → asimetría positiva y concentración de observaciones entre Q1 y mediana.\n",
    "\n",
    "El 25% de los datos entre Q1 y la mediana están muy concentrados, y la distribución tiene asimetría"
   ]
  },
  {
   "cell_type": "markdown",
   "id": "945d2560",
   "metadata": {},
   "source": [
    "Pregunta 8\n",
    "Después de obtener un resultado de ANOVA significativo (p < 0.05) al comparar 6 grupos, ¿cuál es el propósito\n",
    "principal de realizar un test HSD de Tukey?\n",
    "\n",
    "RESPUESTA: \n",
    "Tras un ANOVA significativo, Tukey HSD identifica qué pares de medias difieren, controlando el error tipo I."
   ]
  },
  {
   "cell_type": "markdown",
   "id": "cf2adb8e",
   "metadata": {},
   "source": [
    "Pregunta 9\n",
    "Un estudio compara el tiempo de reacción de los participantes bajo tres condiciones de iluminación diferentes (baja,\n",
    "media, alta). El análisis ANOVA revela una diferencia significativa. Si una prueba post-hoc de Tukey muestra que\n",
    "‘baja vs. media’ tiene p = 0.03, ‘baja vs. alta’ tiene p = 0.01, y ‘media vs. alta’ tiene p = 0.45, ¿qué se puede\n",
    "concluir?\n",
    "\n",
    "RESPUESTA:\n",
    "\n",
    "“Baja” difiere de “media” (p = 0.03) y de “alta” (p = 0.01), mientras que “media” ≈ “alta” (p = 0.45).\n",
    "→ La condición baja es la diferente.\n",
    "El tiempo de reacción en la condición ‘baja’ es significativamente diferente del de las condiciones ‘media’ y ‘alta’."
   ]
  },
  {
   "cell_type": "markdown",
   "id": "fbe0814f",
   "metadata": {},
   "source": [
    "Pregunta 10\n",
    "Un histograma de un conjunto de datos muestra una cola larga hacia la derecha. ¿Cuál de las siguientes afirmaciones\n",
    "es la más probable sobre la relación entre la media, la mediana y la moda de estos datos?\n",
    "\n",
    "RESPUESTA:\n",
    "En una distribución sesgada a la derecha, la media es la mayor:\n",
    "Moda < Mediana < Media.\n"
   ]
  },
  {
   "cell_type": "markdown",
   "id": "e2ae61bf",
   "metadata": {},
   "source": [
    "Pregunta 11\n",
    "Un estudio compara dos tratamientos médicos. Si el analista no verifica el supuesto de homogeneidad de varianzas\n",
    "y las varianzas de los dos grupos son muy diferentes, ¿qué podría ocurrir si utiliza una prueba t estándar en lugar\n",
    "de una con la corrección de Welch?\n",
    "\n",
    "RESPUESTA:\n",
    "\n",
    "Si las varianzas son desiguales y se usa una t clásica en lugar de Welch, puede inflarse el error tipo I o reducir la potencia.\n",
    "\n",
    "Cuando las varianzas no son homogéneas, debe utilizarse la prueba t de Welch, que ajusta los grados de libertad y corrige el error estándar.\n",
    "Así, se mantiene el nivel de significación correcto y se obtiene una comparación más fiable entre los dos tratamientos."
   ]
  },
  {
   "cell_type": "markdown",
   "id": "f9dac74f",
   "metadata": {},
   "source": [
    "Pregunta 12\n",
    "Un analista de datos está trabajando con una serie temporal de población entre dos censos realizados con 10 años de\n",
    "diferencia. Asume que la población crece a una tasa porcentual constante cada año. ¿Qué método de interpolación\n",
    "debería utilizar para estimar la población en los años intermedios?\n",
    "\n",
    "\n",
    "Justificación: Con crecimiento a tasa porcentual constante, se usa interpolación exponencial (geométrica)."
   ]
  },
  {
   "cell_type": "markdown",
   "id": "e50cb4aa",
   "metadata": {},
   "source": [
    "Pregunta 13\n",
    "Un modelo de regresión simple busca predecir el salario por hora (‘wage’) usando los años de educación (‘educ’). El\n",
    "resultado es ‘wage = -0.90 + 0.54 * educ’. ¿Qué representa el valor 0.54?\n",
    "\n",
    "El coeficiente 0.54 indica el aumento promedio en salario por hora por cada año adicional de educación (pendiente del modelo).\n"
   ]
  },
  {
   "cell_type": "markdown",
   "id": "a64755a7",
   "metadata": {},
   "source": [
    "Pregunta 14\n",
    "Un estudio analiza los salarios por hora de trabajadores. Si se eliminan los datos faltantes de ingresos y se sabe\n",
    "que las personas con mayores ingresos son más propensas a no declararlos, ¿qué efecto tendrá esto en la media de\n",
    "ingresos calculada?\n",
    "\n",
    "Si quienes más ganan no declaran sus ingresos, al eliminarlos la media estará sesgada hacia abajo."
   ]
  },
  {
   "cell_type": "markdown",
   "id": "188fce36",
   "metadata": {},
   "source": [
    "Pregunta 15\n",
    "¿Cuál de las siguientes afirmaciones sobre el coeficiente de determinación (R2) es FALSA?\n",
    "\n",
    "R² alto no implica causalidad → esa afirmación es falsa."
   ]
  },
  {
   "cell_type": "markdown",
   "id": "1d32d302",
   "metadata": {},
   "source": [
    "Pregunta 16\n",
    "En un conjunto de datos sobre crímenes en diferentes ciudades, las variables ‘Asalto’, ‘Asesinato’ y ‘Secuestro’ están\n",
    "altamente correlacionadas. Si se realiza un PCA, ¿qué se esperaría del primer componente principal (PC1)?\n",
    "\n",
    "\n",
    "Pregunta 16\n",
    "\n",
    "PC1 capturará la criminalidad general, con loadings altos y del mismo signo para Asalto, Asesinato y Secuestro."
   ]
  },
  {
   "cell_type": "markdown",
   "id": "df8f3c75",
   "metadata": {},
   "source": [
    "Pregunta 17\n",
    "En el contexto de las pruebas de hipótesis, ¿qué es un error de Tipo II?\n",
    "\n",
    "Error Tipo II = no rechazar H₀ siendo falsa.\n"
   ]
  },
  {
   "cell_type": "markdown",
   "id": "bd0a14cd",
   "metadata": {},
   "source": [
    "Pregunta 18\n",
    "En un análisis ANOVA, ¿qué relación conceptual describe mejor el estadístico F?\n",
    "\n",
    "El ratio entre la varianza entre los grupos (variabilidad explicada) y la varianza dentro de los grupos (variabilidad\n",
    "no explicada o error).\n",
    "\n",
    "El estadístico F = varianza entre grupos / varianza dentro de grupos.\n",
    "\n"
   ]
  },
  {
   "cell_type": "markdown",
   "id": "05c6365f",
   "metadata": {},
   "source": [
    "Pregunta 19\n",
    "Se desea comparar la eficacia de cuatro dietas diferentes en la pérdida de peso. Los participantes son asignados\n",
    "aleatoriamente a una de las cuatro dietas. La variable de interés es la cantidad de peso perdido después de 3 meses.\n",
    "¿Qué análisis es el más apropiado?\n",
    "\n",
    "Cuatro grupos independientes → ANOVA de un factor.\n",
    "\n"
   ]
  },
  {
   "cell_type": "markdown",
   "id": "587691de",
   "metadata": {},
   "source": [
    "Pregunta 20\n",
    "Un científico de datos quiere comparar la distribución de salarios (una variable continua y muy asimétrica) con la\n",
    "de años de educación (una variable continua con una escala muy diferente). ¿Qué técnica de transformación es la\n",
    "más adecuada para poner ambas variables en una escala común antes de aplicar un algoritmo como PCA?\n",
    "\n",
    "Para comparar variables con escalas diferentes, antes de un PCA se usa estandarización (Z-score).\n",
    "\n",
    "En un análisis como PCA (Análisis de Componentes Principales), es fundamental que las variables estén en una misma escala, porque el método se basa en la varianza de cada variable. Si una variable tiene valores muy grandes (como salarios) y otra muy pequeños (como años de educación), la primera dominará el análisis.\n",
    "Para evitar eso, se aplican transformaciones que igualen las escalas.\n",
    "\n"
   ]
  },
  {
   "cell_type": "markdown",
   "id": "2cb927c7",
   "metadata": {},
   "source": [
    "OTRO EXAMEN"
   ]
  },
  {
   "cell_type": "markdown",
   "id": "87d76b8e",
   "metadata": {},
   "source": [
    "Pregunta 1\n",
    "Un ANOVA de un factor con 4 grupos produce un valor p de 0.38 (usando un fi = 0.05). ¿Cuál es la conclusión\n",
    "correcta y el siguiente paso?\n",
    "\n",
    "P1 — A)\n",
    "Justificación: Un p = 0.38 (> 0.05) indica que no hay evidencia suficiente para rechazar H0\n",
    " de igualdad de medias entre los 4 grupos. El siguiente paso razonable es no proceder a post-hoc: antes que nada aceptar la conclusión del ANOVA. No hay indicio de diferencias significativas que justifiquen tests post-hoc."
   ]
  },
  {
   "cell_type": "markdown",
   "id": "91e6a420",
   "metadata": {},
   "source": [
    "Pregunta 2\n",
    "Un analista está estudiando datos de ingresos que están muy sesgados a la derecha. Para un modelo de regresión,\n",
    "decide aplicar una transformación logarítmica a la variable de ingresos. ¿Cuál de las siguientes es una razón válida para hacer esto?\n",
    "\n",
    "La transformación logarítmica se emplea para reducir asimetría y estabilizar la varianza (heterocedasticidad). En datos de ingresos (sesgo a la derecha) el log suele acercar la distribución a la normal y hacer más válidos los supuestos de modelos lineales; no aumenta n ni elimina outliers por arte de magia.\n",
    "\n"
   ]
  },
  {
   "cell_type": "markdown",
   "id": "f25e45ed",
   "metadata": {},
   "source": [
    "Pregunta 3\n",
    "Un estudio analiza los salarios por hora de trabajadores. Si se eliminan los datos faltantes de ingresos y se sabe\n",
    "que las personas con mayores ingresos son más propensas a no declararlos, ¿qué efecto tendrá esto en la media de\n",
    "ingresos calculada?\n",
    "\n",
    "Si los más ricos son quienes no declaran ingresos, la muestra retenida pierde sistemáticamente observaciones altas → la media calculada con los datos observados será subestimada respecto de la media poblacional (sesgo hacia abajo).\n",
    "\n"
   ]
  },
  {
   "cell_type": "markdown",
   "id": "13247e46",
   "metadata": {},
   "source": [
    "Pregunta 4\n",
    "En una encuesta sobre ingresos, las personas con ingresos muy altos y muy bajos son las que más tienden a no\n",
    "responder la pregunta. ¿Qué tipo de mecanismo de datos faltantes describe mejor esta situación?\n",
    "\n",
    "Faltantes No al Azar (MNAR)"
   ]
  },
  {
   "cell_type": "markdown",
   "id": "da02d5ec",
   "metadata": {},
   "source": [
    "Pregunta 5\n",
    "Un investigador quiere estudiar el efecto de un nuevo medicamento sobre la presión arterial. Si los datos sobre\n",
    "la presión arterial tienen muchos outliers extremos, ¿qué medida de tendencia central sería más robusta y\n",
    "representativa?\n",
    "\n",
    "Ante outliers extremos la mediana es la medida de tendencia central más robusta (no se ve afectada por valores extremos), mientras que media y desviación estándar sí son sensibles a outliers"
   ]
  },
  {
   "cell_type": "markdown",
   "id": "fa1a1068",
   "metadata": {},
   "source": [
    "Pregunta 7\n",
    "Se te presenta un diagrama de caja (box plot) donde la línea de la mediana está muy cerca de la caja del primer\n",
    "cuartil (Q1) y el bigote derecho es mucho más largo que el bigote izquierdo. ¿Qué inferencia es la más correcta sobre la distribución de los datos?\n",
    "\n",
    "Mediana muy próxima a Q1 implica que el cuartil inferior concentra mucho peso (25% entre Q1 y mediana), y un bigote derecho mucho más largo indica asimetría positiva (cola a la derecha)"
   ]
  },
  {
   "cell_type": "markdown",
   "id": "43bf3c51",
   "metadata": {},
   "source": [
    "Pregunta 9\n",
    "Un estudio compara dos tratamientos médicos. Si el analista no verifica el supuesto de homogeneidad de varianzas\n",
    "y las varianzas de los dos grupos son muy diferentes, ¿qué podría ocurrir si utiliza una prueba t estándar en lugar\n",
    "de una con la corrección de Welch?\n",
    "\n",
    "La probabilidad de un error de Tipo I podría estar inflada o la potencia de la prueba podría reducirse.\n",
    "\n"
   ]
  },
  {
   "cell_type": "markdown",
   "id": "7319cca8",
   "metadata": {},
   "source": [
    "Pregunta 10\n",
    "En un análisis de regresión, se obtiene un R2 de 0.16 y un R2 ajustado de 0.163. ¿Qué podría explicar que el R2\n",
    "ajustado sea mayor que el R2?\n",
    "\n",
    "Matemáticamente es imposible que \n",
    "𝑅\n",
    "adj\n",
    "2\n",
    ">\n",
    "𝑅\n",
    "2\n",
    "R\n",
    "adj\n",
    "2\n",
    "\t​\n",
    "\n",
    ">R\n",
    "2\n",
    " en una implementación correcta porque Rcuadrado ajust> Rcuadrado en una implentación correcta porque \n",
    " el Rcuadrado ajustado penaliza por número de regresores; si ocurre, indica error de cálculo o problema en el reporte.\n",
    "\n"
   ]
  },
  {
   "cell_type": "markdown",
   "id": "6be1da6e",
   "metadata": {},
   "source": [
    "Pregunta 11\n",
    "Realizas un ANOVA comparando 5 métodos de enseñanza y obtienes un estadístico F grande con un valor p =\n",
    "0.002. ¿Qué te indica este resultado?\n",
    "\n",
    "Un F grande con p = 0.002 indica que la varianza entre grupos es grande relativa a la varianza dentro de los grupos; en términos de interpretación: al menos dos grupos tienen medias significativamente diferentes (es la conclusión estándar de un ANOVA significativo)."
   ]
  },
  {
   "cell_type": "markdown",
   "id": "1bc7edba",
   "metadata": {},
   "source": [
    "Pregunta 12\n",
    "En un análisis de PCA, ¿cuál es la relación matemática entre los componentes principales?\n",
    "\n",
    "Son ortogonales (no están correlacionados).\n"
   ]
  },
  {
   "cell_type": "markdown",
   "id": "4299c719",
   "metadata": {},
   "source": [
    "Pregunta 13\n",
    "Un analista de recursos humanos quiere saber si la antigüedad promedio en la empresa es la misma para tres\n",
    "departamentos diferentes: Ventas, Marketing y TI. ¿Cuál sería la hipótesis nula (H0) para una prueba ANOVA?\n",
    "\n",
    " La hipótesis nula en ANOVA para comparar medias de tres grupos es que todas las medias son iguales: \n",
    "𝜇ventas = 𝜇mark=𝜇IT"
   ]
  },
  {
   "cell_type": "markdown",
   "id": "26ae8f9e",
   "metadata": {},
   "source": [
    "Pregunta 14\n",
    "Se desea estudiar el efecto de un nuevo fertilizante en el crecimiento de las plantas. Se tienen tres grupos: uno de\n",
    "control (sin fertilizante), uno con el fertilizante A y otro con el fertilizante B. Los datos de crecimiento no siguen una distribución normal. ¿Qué prueba se debería usar para comparar los tres grupos?\n",
    "\n",
    "Prueba de Wilcoxon-Mann-Whitney Y Prueba de Kruskal-Wallis ambas son pruebas no paramétricas, no asumen normalidad en los datos, pero se aplican en situaciones distintas.\n",
    "\n",
    "Prueba de Wilcoxon–Mann–Whitney: Comparar dos grupos independientes para evaluar si provienen de la misma distribución (especialmente si tienen igual mediana).\n",
    "\n",
    "Prueba de Kruskal–Wallis: Es un ANOVA no parametrico, Comparar tres o más grupos independientes para determinar si al menos uno difiere en su distribución o mediana. \n",
    "\n",
    "EN ESTE CASO; Si los datos no son normales y tenemos tres grupos independientes, la alternativa no paramétrica adecuada es Kruskal–Wallis, que compara medianas/rank sums sin asumir normalidad."
   ]
  },
  {
   "cell_type": "markdown",
   "id": "7e23fa7f",
   "metadata": {},
   "source": [
    "Pregunta 15\n",
    "Un economista recolectó datos de ingresos mensuales (en miles de pesos) de 500 trabajadores del sector servicios.\n",
    "Necesita decidir qué métodos estadísticos son apropiados para su análisis posterior. Ejecutar el código 1 de R. Dado\n",
    "el histograma y las estadísticas observadas, ¿cuál es el análisis MÁS apropiado de esta distribución para planear el\n",
    "análisis estadístico?\n",
    "\n",
    "Con n=500 la Ley de los Grandes N ayuda en muchas inferencias, pero una asimetría severa (skewness = 2.14) y Shapiro-Wilk significativo señalan que la cola derecha contiene información válida (desigualdad) y no es correcto simplemente ignorarla. Recomendación práctica: reportar la mediana como medida típica; para análisis paramétrico transformar con log(ingreso) (o usar tests no paramétricos) y siempre reportar interpretación en escala original cuando importe la magnitud absoluta. No conviene eliminar outliers sin justificación, porque reflejan la estructura real del mercado\n",
    "\n",
    "Test de Shapiro–Wilk: Evaluar si una muestra proviene de una distribución normal\n",
    "\n",
    "El valor W compara la dispersión observada de los datos con la esperada bajo una distribución normal. Cuanto más se aleja de 1, mayor es la desviación de la normalidad."
   ]
  },
  {
   "cell_type": "markdown",
   "id": "638c6c0c",
   "metadata": {},
   "source": [
    "Pregunta 16\n",
    "Un investigador analiza el efecto de un programa de capacitación sobre la productividad de los empleados. Mide la\n",
    "productividad de los mismos empleados antes y después del programa. ¿Qué prueba estadística es la más indicada\n",
    "para comparar la productividad media?\n",
    "\n",
    "\n",
    "    La prueba de Levene se utiliza en estadística para verificar la homogeneidad de varianzas entre dos o más grupos.\n",
    "\n",
    "    La prueba t para muestras pareadas se usa cuando quieres comparar las medias de dos conjuntos de datos relacionados. Es decir, se aplica cuando las observaciones no son independientes, sino que hay un emparejamiento natural entre ellas, como: Antes y después de un tratamiento en los mismos individuos. Mediciones en dos condiciones diferentes para el mismo sujeto.\n",
    "\n",
    "Para comparar la productividad del mismo grupo antes y después se usa la t para muestras pareadas, que evalúa si la media de las diferencias es distinta de cero y aprovecha la correlación intra-individuo para ganar potencia.\n"
   ]
  },
  {
   "cell_type": "markdown",
   "id": "4a7a3a62",
   "metadata": {},
   "source": [
    "Pregunta 17\n",
    "Se desea comparar la eficacia de cuatro dietas diferentes en la pérdida de peso. Los participantes son asignados\n",
    "aleatoriamente a una de las cuatro dietas. La variable de interés es la cantidad de peso perdido después de 3 meses.\n",
    "¿Qué análisis es el más apropiado?\n",
    "\n",
    "Cuatro grupos independientes con asignación aleatoria → el análisis apropiado para comparar medias es ANOVA de un factor, que controla la tasa de error tipo I al comparar múltiples medias simultáneamente.\n",
    "\n"
   ]
  },
  {
   "cell_type": "markdown",
   "id": "d2192ee0",
   "metadata": {},
   "source": [
    "Pregunta 18\n",
    "Suponga que corrió el código 2 (no lo haga porque los resultados van a dar distinto) y se obtuvieron los siguientes\n",
    "resultados para analizar los supuestos:\n",
    "Shapiro-Wilk test (normalidad de diferencias): W = 0.9872 p-valor = 0.5167 fi No se rechaza normalidad (p > 0.05)\n",
    "Test de Wilcoxon (alternativa no paramétrica): V = 3361 p-valor: <0.0001\n",
    "Además, los Q-Q plot y histograma de diferencias muestran distribución aproximadamente normal.\n",
    "Responda: ¿Por qué verificamos normalidad de las DIFERENCIAS y no de los ingresos antes/después por separado?\n",
    "¿Qué implican estos resultados?\n",
    "\n",
    "l test t pareado se fundamenta en la distribución de las diferencias individuales (después − antes); por tanto la normalidad que importa es la de esas diferencias. Aquí Shapiro-Wilk p = 0.5167 indica que no hay evidencia para rechazar normalidad de las diferencias, lo que valida el uso de t pareado. El Wilcoxon, con p < 0.0001, es una alternativa no paramétrica que también sugiere un efecto significativo — la concordancia de ambos métodos (paramétrico y no paramétrico) fortalece la confianza en la conclusión de que hay un cambio significativo.\n",
    "\n"
   ]
  },
  {
   "cell_type": "markdown",
   "id": "a7884bbf",
   "metadata": {},
   "source": [
    "Pregunta 19\n",
    "Un analista de datos está comparando dos conjuntos de datos. El Conjunto A tiene una media de 100 y una\n",
    "desviación estándar de 10. El Conjunto B tiene una media de 500 y una desviación estándar de 40. ¿Qué se puede\n",
    "concluir sobre la dispersión de los dos conjuntos de datos?\n",
    "\n",
    "\n",
    "\n"
   ]
  },
  {
   "cell_type": "code",
   "execution_count": 11,
   "id": "3594472e",
   "metadata": {},
   "outputs": [
    {
     "name": "stdout",
     "output_type": "stream",
     "text": [
      "1.25\n",
      "La variable A tiene una variabilidad mayor que B\n",
      "El coeficiente de variación del Conjunto A y B es respectivamente: 0.1 y 0.08\n"
     ]
    }
   ],
   "source": [
    "\n",
    "coef_variacion_a = 10/100 #desvio/media de a\n",
    "coef_variacion_b = 40/500 \n",
    "cociente = coef_variacion_a/coef_variacion_b\n",
    "print (cociente)\n",
    "# Condicional\n",
    "if cociente > 1:\n",
    "    print(\"La variable A tiene una variabilidad mayor que B\")\n",
    "else:\n",
    "    print(\"La variable B tiene una variabilidad mayor que A\")\n",
    "\n",
    "print(f\"El coeficiente de variación del Conjunto A y B es respectivamente: {coef_variacion_a} y {coef_variacion_b}\")\n"
   ]
  }
 ],
 "metadata": {
  "kernelspec": {
   "display_name": "Python 3",
   "language": "python",
   "name": "python3"
  },
  "language_info": {
   "codemirror_mode": {
    "name": "ipython",
    "version": 3
   },
   "file_extension": ".py",
   "mimetype": "text/x-python",
   "name": "python",
   "nbconvert_exporter": "python",
   "pygments_lexer": "ipython3",
   "version": "3.9.5"
  }
 },
 "nbformat": 4,
 "nbformat_minor": 5
}
