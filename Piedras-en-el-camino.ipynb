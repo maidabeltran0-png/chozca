{
 "cells": [
  {
   "cell_type": "markdown",
   "id": "e9dc9bc7",
   "metadata": {},
   "source": [
    "RECORDATORIO:"
   ]
  },
  {
   "cell_type": "markdown",
   "id": "09e75b7f",
   "metadata": {},
   "source": [
    "3. Cuando hago cambios en algun archivo de datos o una base de datos, como cambiar datos, renonmbrar columnas y modificar el tipo de datos de las celdas o dando el atributo de categoria a una columna. Para guardar estos cambios tengo que tener cuidado, en que tipo de archivos hacerlo, dado que hacerlo asi nomas puede tirar a la basura todo el trabajo realizado, perdiendo limpieza y orden. Ademas es importante guardar esa base limpia, en archivos que puedan leer en otros lenguajes de programación. Para almacenamiento temporal, recomendamos usar el formato feather, ya que es muy rápido e interoperable con otros lenguajes de programación. \n"
   ]
  },
  {
   "cell_type": "markdown",
   "id": "9c63813a",
   "metadata": {},
   "source": [
    "1. Skimpy= dolor de cabeza, mucho cuidado con las dependecias y las instalaciones duplicadas de python \n",
    "o de cualquier otro lenguaje de programación.\n",
    "Si instalo una libreria y tengo varios programas y algunas son muy viejos o otros muy nuevos\n",
    "me genera que unos funciones y otros no porque esta deprecados.\n",
    "\n",
    "2. Si tengo duplicado varios programas: Trato de instalar las librerias en todos los interpretadores\n",
    "que tengo instalados\n"
   ]
  }
 ],
 "metadata": {
  "language_info": {
   "name": "python"
  }
 },
 "nbformat": 4,
 "nbformat_minor": 5
}
