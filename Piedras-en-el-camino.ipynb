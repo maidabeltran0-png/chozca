{
 "cells": [
  {
   "cell_type": "markdown",
   "id": "e9dc9bc7",
   "metadata": {},
   "source": [
    "RECORDATORIO:"
   ]
  },
  {
   "cell_type": "markdown",
   "id": "9c63813a",
   "metadata": {},
   "source": [
    "1. Skimpy= dolor de cabeza, mucho cuidado con las dependecias y las instalaciones duplicadas de python \n",
    "o de cualquier otro lenguaje de programación.\n",
    "Si instalo una libreria y tengo varios programas y algunas son muy viejos o otros muy nuevos\n",
    "me genera que unos funciones y otros no porque esta deprecados.\n",
    "\n",
    "2. Si tengo duplicado varios programas: Trato de instalar las librerias en todos los interpretadores\n",
    "que tengo instalados\n"
   ]
  }
 ],
 "metadata": {
  "language_info": {
   "name": "python"
  }
 },
 "nbformat": 4,
 "nbformat_minor": 5
}
