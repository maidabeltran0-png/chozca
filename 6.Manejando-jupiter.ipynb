{
 "cells": [
  {
   "cell_type": "markdown",
   "id": "f0c52c77",
   "metadata": {},
   "source": []
  },
  {
   "cell_type": "code",
   "execution_count": 2,
   "id": "e33f782a",
   "metadata": {},
   "outputs": [
    {
     "name": "stdout",
     "output_type": "stream",
     "text": [
      "I am alive!\n"
     ]
    }
   ],
   "source": [
    "print (\"I am alive!\")"
   ]
  },
  {
   "cell_type": "code",
   "execution_count": 3,
   "id": "df040196",
   "metadata": {},
   "outputs": [
    {
     "name": "stdout",
     "output_type": "stream",
     "text": [
      "I am tired to have to deal with this situacion, another and another time...\n"
     ]
    }
   ],
   "source": [
    "print(\"I am tired to have to deal with this situacion, another and another time...\")"
   ]
  },
  {
   "cell_type": "markdown",
   "id": "eb85c814",
   "metadata": {},
   "source": [
    "MANEJO DE JUPITER\n"
   ]
  },
  {
   "cell_type": "markdown",
   "id": "9c46ef6e",
   "metadata": {},
   "source": [
    "#Entorno de experimentación, manejo de codigo y texto. \n",
    "Me permite correr codigo por celdas\n",
    "La salida de cada terminal es debajo de cada celda.\n",
    "Cada celda es independiente entre si\n",
    "\n",
    "Uso típico\tProgramas, automatización, producción\t\n",
    "Análisis, experimentación, enseñanza\n",
    "Guardado\tSolo código\tCódigo + resultados + texto"
   ]
  },
  {
   "cell_type": "code",
   "execution_count": 1,
   "id": "6894c8e2",
   "metadata": {},
   "outputs": [
    {
     "name": "stdout",
     "output_type": "stream",
     "text": [
      "Hello World!\n"
     ]
    }
   ],
   "source": [
    "print('Hello World!') #puedo ejecutar esto con shift+enter en un jupyter notebook\n",
    "#TEXTO QUE NO ES CODIGO, ACA PUEDO HACER MIS APUNTES\n",
    "#7.2. Jupyter Notebooks\n",
    "# Los Jupyter Notebooks sirven para experimentar, experimentar y mantener el texto y el código juntos.\n"
   ]
  },
  {
   "cell_type": "markdown",
   "id": "25661f40",
   "metadata": {},
   "source": [
    "7.2.1. Consejos para usar Jupyter Notebooks\n",
    "Control de versiones: si usa control de versiones, tenga cuidado \n",
    "al guardar las salidas de Jupyter Notebooks si solo desea guardar código. \n",
    "La mayoría de los IDE compatibles con Jupyter Notebooks tienen una opción de salida clara.\n",
    " También puede automatizar esto como un gancho de Git pre-commit (si no sabe qué es, no se preocupe). También puede vincular su notebook a un script o archivo Markdown (que se explica en la siguiente sección). Con o sin salidas, los Jupyter Notebooks se renderizarán en GitHub."
   ]
  }
 ],
 "metadata": {
  "kernelspec": {
   "display_name": "Python 3",
   "language": "python",
   "name": "python3"
  },
  "language_info": {
   "codemirror_mode": {
    "name": "ipython",
    "version": 3
   },
   "file_extension": ".py",
   "mimetype": "text/x-python",
   "name": "python",
   "nbconvert_exporter": "python",
   "pygments_lexer": "ipython3",
   "version": "3.9.5"
  }
 },
 "nbformat": 4,
 "nbformat_minor": 5
}
