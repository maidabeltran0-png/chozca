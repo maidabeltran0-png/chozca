{
 "cells": [
  {
   "cell_type": "markdown",
   "id": "f03c2934",
   "metadata": {},
   "source": [
    "# Esto es un test notebook\n",
    "\n",
    "Esto es un ejemplo de markdown cell\n",
    "\n",
    "## Esto es un subtitulo\n",
    "\n",
    "Mas texto"
   ]
  },
  {
   "cell_type": "code",
   "execution_count": null,
   "id": "2f2c3de5",
   "metadata": {},
   "outputs": [],
   "source": [
    "print (\"Cabezon de mierda\")\n"
   ]
  }
 ],
 "metadata": {
  "language_info": {
   "name": "python"
  }
 },
 "nbformat": 4,
 "nbformat_minor": 5
}
